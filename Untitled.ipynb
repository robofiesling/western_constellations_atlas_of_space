{
 "cells": [
  {
   "cell_type": "code",
   "execution_count": 1,
   "id": "94a80ca5-00c3-4a99-8538-eab8d3ee6715",
   "metadata": {},
   "outputs": [
    {
     "name": "stdout",
     "output_type": "stream",
     "text": [
      "C:\\Users\\ffwin\\anaconda3\\Lib\\site-packages\\matplotlib\\mpl-data\\fonts\\ttf\\DejaVuSans.ttf DejaVu Sans\n",
      "C:\\Users\\ffwin\\anaconda3\\Lib\\site-packages\\matplotlib\\mpl-data\\fonts\\ttf\\DejaVuSansMono-Bold.ttf DejaVu Sans Mono\n",
      "C:\\Users\\ffwin\\anaconda3\\Lib\\site-packages\\matplotlib\\mpl-data\\fonts\\ttf\\DejaVuSans-Bold.ttf DejaVu Sans\n",
      "C:\\Users\\ffwin\\anaconda3\\Lib\\site-packages\\matplotlib\\mpl-data\\fonts\\ttf\\DejaVuSans-BoldOblique.ttf DejaVu Sans\n",
      "C:\\Users\\ffwin\\anaconda3\\Lib\\site-packages\\matplotlib\\mpl-data\\fonts\\ttf\\DejaVuSans-Oblique.ttf DejaVu Sans\n",
      "C:\\Users\\ffwin\\anaconda3\\Lib\\site-packages\\matplotlib\\mpl-data\\fonts\\ttf\\DejaVuSansMono.ttf DejaVu Sans Mono\n",
      "C:\\Windows\\Fonts\\DejaVuSansCondensed-Oblique.ttf DejaVu Sans\n"
     ]
    },
    {
     "ename": "FileNotFoundError",
     "evalue": "[Errno 2] No such file or directory: 'C:\\\\Windows\\\\Fonts\\\\NirmalaS.ttf'",
     "output_type": "error",
     "traceback": [
      "\u001b[1;31m---------------------------------------------------------------------------\u001b[0m",
      "\u001b[1;31mFileNotFoundError\u001b[0m                         Traceback (most recent call last)",
      "Cell \u001b[1;32mIn[1], line 17\u001b[0m\n\u001b[0;32m     14\u001b[0m font_info \u001b[38;5;241m=\u001b[39m [(f\u001b[38;5;241m.\u001b[39mfname, f\u001b[38;5;241m.\u001b[39mname) \u001b[38;5;28;01mfor\u001b[39;00m f \u001b[38;5;129;01min\u001b[39;00m mfm\u001b[38;5;241m.\u001b[39mfontManager\u001b[38;5;241m.\u001b[39mttflist]\n\u001b[0;32m     16\u001b[0m \u001b[38;5;28;01mfor\u001b[39;00m i, font \u001b[38;5;129;01min\u001b[39;00m \u001b[38;5;28menumerate\u001b[39m(font_info):\n\u001b[1;32m---> 17\u001b[0m     \u001b[38;5;28;01mif\u001b[39;00m char_in_font(uni_char, TTFont(font[\u001b[38;5;241m0\u001b[39m], fontNumber\u001b[38;5;241m=\u001b[39m\u001b[38;5;241m0\u001b[39m)):\n\u001b[0;32m     18\u001b[0m         \u001b[38;5;28mprint\u001b[39m(font[\u001b[38;5;241m0\u001b[39m], font[\u001b[38;5;241m1\u001b[39m])\n",
      "File \u001b[1;32m~\\anaconda3\\Lib\\site-packages\\fontTools\\ttLib\\ttFont.py:145\u001b[0m, in \u001b[0;36mTTFont.__init__\u001b[1;34m(self, file, res_name_or_index, sfntVersion, flavor, checkChecksums, verbose, recalcBBoxes, allowVID, ignoreDecompileErrors, recalcTimestamp, fontNumber, lazy, quiet, _tableCache, cfg)\u001b[0m\n\u001b[0;32m    143\u001b[0m             file \u001b[38;5;241m=\u001b[39m macUtils\u001b[38;5;241m.\u001b[39mSFNTResourceReader(file, res_name_or_index)\n\u001b[0;32m    144\u001b[0m     \u001b[38;5;28;01melse\u001b[39;00m:\n\u001b[1;32m--> 145\u001b[0m         file \u001b[38;5;241m=\u001b[39m \u001b[38;5;28mopen\u001b[39m(file, \u001b[38;5;124m\"\u001b[39m\u001b[38;5;124mrb\u001b[39m\u001b[38;5;124m\"\u001b[39m)\n\u001b[0;32m    146\u001b[0m \u001b[38;5;28;01melse\u001b[39;00m:\n\u001b[0;32m    147\u001b[0m     \u001b[38;5;66;03m# assume \"file\" is a readable file object\u001b[39;00m\n\u001b[0;32m    148\u001b[0m     closeStream \u001b[38;5;241m=\u001b[39m \u001b[38;5;28;01mFalse\u001b[39;00m\n",
      "\u001b[1;31mFileNotFoundError\u001b[0m: [Errno 2] No such file or directory: 'C:\\\\Windows\\\\Fonts\\\\NirmalaS.ttf'"
     ]
    }
   ],
   "source": [
    "from fontTools.ttLib import TTFont\n",
    "import matplotlib.font_manager as mfm\n",
    "\n",
    "def char_in_font(Unicode_char, font):\n",
    "    for cmap in font['cmap'].tables:\n",
    "        if cmap.isUnicode():\n",
    "            if ord(Unicode_char) in cmap.cmap:\n",
    "                return True\n",
    "    return False\n",
    "\n",
    "uni_char =  u\"✹\"\n",
    "# or uni_char = u\"\\u2739\"\n",
    "\n",
    "font_info = [(f.fname, f.name) for f in mfm.fontManager.ttflist]\n",
    "\n",
    "for i, font in enumerate(font_info):\n",
    "    if char_in_font(uni_char, TTFont(font[0], fontNumber=0)):\n",
    "        print(font[0], font[1])"
   ]
  }
 ],
 "metadata": {
  "kernelspec": {
   "display_name": "Python 3 (ipykernel)",
   "language": "python",
   "name": "python3"
  },
  "language_info": {
   "codemirror_mode": {
    "name": "ipython",
    "version": 3
   },
   "file_extension": ".py",
   "mimetype": "text/x-python",
   "name": "python",
   "nbconvert_exporter": "python",
   "pygments_lexer": "ipython3",
   "version": "3.12.7"
  }
 },
 "nbformat": 4,
 "nbformat_minor": 5
}
